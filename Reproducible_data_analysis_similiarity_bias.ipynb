{
  "nbformat": 4,
  "nbformat_minor": 0,
  "metadata": {
    "colab": {
      "name": "Reproducible_data_analysis_similiarity_bias.ipynb",
      "provenance": [],
      "toc_visible": true,
      "authorship_tag": "ABX9TyOpJrl/FxNGKIu/BsHjUMh/",
      "include_colab_link": true
    },
    "kernelspec": {
      "name": "python3",
      "display_name": "Python 3"
    },
    "language_info": {
      "name": "python"
    }
  },
  "cells": [
    {
      "cell_type": "markdown",
      "metadata": {
        "id": "view-in-github",
        "colab_type": "text"
      },
      "source": [
        "<a href=\"https://colab.research.google.com/github/daniel-saunders-phil/dowry-game/blob/main/Reproducible_data_analysis_similiarity_bias.ipynb\" target=\"_parent\"><img src=\"https://colab.research.google.com/assets/colab-badge.svg\" alt=\"Open In Colab\"/></a>"
      ]
    },
    {
      "cell_type": "markdown",
      "source": [
        "# Reproducible data analysis\n",
        "\n",
        "Welcome. This script reproduces all the charts found in the paper \"When is Similiarity-Biased Social Learning Adaptively Advantageous?\" by Daniel Saunders. Cells need to be run in order for them to communicate correctly so I recommend going to Runtime -> Run All to generate plots. After you've regenerated the analysis, then it's easier to tinker with anything you might be curious about."
      ],
      "metadata": {
        "id": "NXNB0K02CAW8"
      }
    },
    {
      "cell_type": "code",
      "source": [
        "# packages\n",
        "\n",
        "import pandas as pd\n",
        "import matplotlib.pyplot as plt\n",
        "import numpy as np\n",
        "import seaborn as sns\n",
        "\n",
        "# plot settings\n",
        "\n",
        "plt.rcParams['figure.figsize'] = [8, 6]\n",
        "plt.rcParams['font.size'] = 12"
      ],
      "metadata": {
        "id": "GgRz2MQSVhMM"
      },
      "execution_count": 1,
      "outputs": []
    },
    {
      "cell_type": "markdown",
      "source": [
        "## Random pairing rate sensitivity analysis\n",
        "\n",
        "First, I want to see how the behavior of the model changes as you adjust the rate of random pairing. Higher random pairing means players play with the out-group more often."
      ],
      "metadata": {
        "id": "nzg2F-cfwiUA"
      }
    },
    {
      "cell_type": "code",
      "source": [
        "# the raw data is stored on a github repository\n",
        "\n",
        "url = \"https://raw.githubusercontent.com/daniel-saunders-phil/dowry-game/main/data/ethnicity%20bias%20learning%20-%20github%20version%20sensitivity_to_random_pairing-table.csv\"\n",
        "\n",
        "# extract the data from the csv into a DataFrame\n",
        "\n",
        "data = pd.read_csv(url,header=6)\n",
        "data"
      ],
      "metadata": {
        "colab": {
          "base_uri": "https://localhost:8080/",
          "height": 505
        },
        "id": "9DvErEXlWUUo",
        "outputId": "94960df1-2f40-415a-c7e6-2bd622b32938"
      },
      "execution_count": 2,
      "outputs": [
        {
          "output_type": "execute_result",
          "data": {
            "text/plain": [
              "      [run number]  spatial?  random-pairing  mr_learning_strategy  \\\n",
              "0                4     False             0.1                     0   \n",
              "1                1     False             0.1                     0   \n",
              "2                2     False             0.1                     0   \n",
              "3                3     False             0.1                     0   \n",
              "4                6     False             0.1                     0   \n",
              "...            ...       ...             ...                   ...   \n",
              "4995          4996     False             1.0                     0   \n",
              "4996          4997     False             1.0                     0   \n",
              "4997          4998     False             1.0                     0   \n",
              "4998          4999     False             1.0                     0   \n",
              "4999          5000     False             1.0                     0   \n",
              "\n",
              "      conditional_strategies?  initial_proportion_ethnic_learning  \\\n",
              "0                       False                                 0.5   \n",
              "1                       False                                 0.5   \n",
              "2                       False                                 0.5   \n",
              "3                       False                                 0.5   \n",
              "4                       False                                 0.5   \n",
              "...                       ...                                 ...   \n",
              "4995                    False                                 0.5   \n",
              "4996                    False                                 0.5   \n",
              "4997                    False                                 0.5   \n",
              "4998                    False                                 0.5   \n",
              "4999                    False                                 0.5   \n",
              "\n",
              "      plays_per_learn  mr_strategy  [step]  success?  collapse?  \n",
              "0                   1            0    1115      True      False  \n",
              "1                   1            0    1137      True      False  \n",
              "2                   1            0    1331      True      False  \n",
              "3                   1            0    1418      True      False  \n",
              "4                   1            0     938      True      False  \n",
              "...               ...          ...     ...       ...        ...  \n",
              "4995                1            0      13     False       True  \n",
              "4996                1            0      16     False       True  \n",
              "4997                1            0      21     False       True  \n",
              "4998                1            0      18     False       True  \n",
              "4999                1            0      13     False       True  \n",
              "\n",
              "[5000 rows x 11 columns]"
            ],
            "text/html": [
              "\n",
              "  <div id=\"df-cd68ed57-cc36-4ae7-ac28-bfc1975343a3\">\n",
              "    <div class=\"colab-df-container\">\n",
              "      <div>\n",
              "<style scoped>\n",
              "    .dataframe tbody tr th:only-of-type {\n",
              "        vertical-align: middle;\n",
              "    }\n",
              "\n",
              "    .dataframe tbody tr th {\n",
              "        vertical-align: top;\n",
              "    }\n",
              "\n",
              "    .dataframe thead th {\n",
              "        text-align: right;\n",
              "    }\n",
              "</style>\n",
              "<table border=\"1\" class=\"dataframe\">\n",
              "  <thead>\n",
              "    <tr style=\"text-align: right;\">\n",
              "      <th></th>\n",
              "      <th>[run number]</th>\n",
              "      <th>spatial?</th>\n",
              "      <th>random-pairing</th>\n",
              "      <th>mr_learning_strategy</th>\n",
              "      <th>conditional_strategies?</th>\n",
              "      <th>initial_proportion_ethnic_learning</th>\n",
              "      <th>plays_per_learn</th>\n",
              "      <th>mr_strategy</th>\n",
              "      <th>[step]</th>\n",
              "      <th>success?</th>\n",
              "      <th>collapse?</th>\n",
              "    </tr>\n",
              "  </thead>\n",
              "  <tbody>\n",
              "    <tr>\n",
              "      <th>0</th>\n",
              "      <td>4</td>\n",
              "      <td>False</td>\n",
              "      <td>0.1</td>\n",
              "      <td>0</td>\n",
              "      <td>False</td>\n",
              "      <td>0.5</td>\n",
              "      <td>1</td>\n",
              "      <td>0</td>\n",
              "      <td>1115</td>\n",
              "      <td>True</td>\n",
              "      <td>False</td>\n",
              "    </tr>\n",
              "    <tr>\n",
              "      <th>1</th>\n",
              "      <td>1</td>\n",
              "      <td>False</td>\n",
              "      <td>0.1</td>\n",
              "      <td>0</td>\n",
              "      <td>False</td>\n",
              "      <td>0.5</td>\n",
              "      <td>1</td>\n",
              "      <td>0</td>\n",
              "      <td>1137</td>\n",
              "      <td>True</td>\n",
              "      <td>False</td>\n",
              "    </tr>\n",
              "    <tr>\n",
              "      <th>2</th>\n",
              "      <td>2</td>\n",
              "      <td>False</td>\n",
              "      <td>0.1</td>\n",
              "      <td>0</td>\n",
              "      <td>False</td>\n",
              "      <td>0.5</td>\n",
              "      <td>1</td>\n",
              "      <td>0</td>\n",
              "      <td>1331</td>\n",
              "      <td>True</td>\n",
              "      <td>False</td>\n",
              "    </tr>\n",
              "    <tr>\n",
              "      <th>3</th>\n",
              "      <td>3</td>\n",
              "      <td>False</td>\n",
              "      <td>0.1</td>\n",
              "      <td>0</td>\n",
              "      <td>False</td>\n",
              "      <td>0.5</td>\n",
              "      <td>1</td>\n",
              "      <td>0</td>\n",
              "      <td>1418</td>\n",
              "      <td>True</td>\n",
              "      <td>False</td>\n",
              "    </tr>\n",
              "    <tr>\n",
              "      <th>4</th>\n",
              "      <td>6</td>\n",
              "      <td>False</td>\n",
              "      <td>0.1</td>\n",
              "      <td>0</td>\n",
              "      <td>False</td>\n",
              "      <td>0.5</td>\n",
              "      <td>1</td>\n",
              "      <td>0</td>\n",
              "      <td>938</td>\n",
              "      <td>True</td>\n",
              "      <td>False</td>\n",
              "    </tr>\n",
              "    <tr>\n",
              "      <th>...</th>\n",
              "      <td>...</td>\n",
              "      <td>...</td>\n",
              "      <td>...</td>\n",
              "      <td>...</td>\n",
              "      <td>...</td>\n",
              "      <td>...</td>\n",
              "      <td>...</td>\n",
              "      <td>...</td>\n",
              "      <td>...</td>\n",
              "      <td>...</td>\n",
              "      <td>...</td>\n",
              "    </tr>\n",
              "    <tr>\n",
              "      <th>4995</th>\n",
              "      <td>4996</td>\n",
              "      <td>False</td>\n",
              "      <td>1.0</td>\n",
              "      <td>0</td>\n",
              "      <td>False</td>\n",
              "      <td>0.5</td>\n",
              "      <td>1</td>\n",
              "      <td>0</td>\n",
              "      <td>13</td>\n",
              "      <td>False</td>\n",
              "      <td>True</td>\n",
              "    </tr>\n",
              "    <tr>\n",
              "      <th>4996</th>\n",
              "      <td>4997</td>\n",
              "      <td>False</td>\n",
              "      <td>1.0</td>\n",
              "      <td>0</td>\n",
              "      <td>False</td>\n",
              "      <td>0.5</td>\n",
              "      <td>1</td>\n",
              "      <td>0</td>\n",
              "      <td>16</td>\n",
              "      <td>False</td>\n",
              "      <td>True</td>\n",
              "    </tr>\n",
              "    <tr>\n",
              "      <th>4997</th>\n",
              "      <td>4998</td>\n",
              "      <td>False</td>\n",
              "      <td>1.0</td>\n",
              "      <td>0</td>\n",
              "      <td>False</td>\n",
              "      <td>0.5</td>\n",
              "      <td>1</td>\n",
              "      <td>0</td>\n",
              "      <td>21</td>\n",
              "      <td>False</td>\n",
              "      <td>True</td>\n",
              "    </tr>\n",
              "    <tr>\n",
              "      <th>4998</th>\n",
              "      <td>4999</td>\n",
              "      <td>False</td>\n",
              "      <td>1.0</td>\n",
              "      <td>0</td>\n",
              "      <td>False</td>\n",
              "      <td>0.5</td>\n",
              "      <td>1</td>\n",
              "      <td>0</td>\n",
              "      <td>18</td>\n",
              "      <td>False</td>\n",
              "      <td>True</td>\n",
              "    </tr>\n",
              "    <tr>\n",
              "      <th>4999</th>\n",
              "      <td>5000</td>\n",
              "      <td>False</td>\n",
              "      <td>1.0</td>\n",
              "      <td>0</td>\n",
              "      <td>False</td>\n",
              "      <td>0.5</td>\n",
              "      <td>1</td>\n",
              "      <td>0</td>\n",
              "      <td>13</td>\n",
              "      <td>False</td>\n",
              "      <td>True</td>\n",
              "    </tr>\n",
              "  </tbody>\n",
              "</table>\n",
              "<p>5000 rows × 11 columns</p>\n",
              "</div>\n",
              "      <button class=\"colab-df-convert\" onclick=\"convertToInteractive('df-cd68ed57-cc36-4ae7-ac28-bfc1975343a3')\"\n",
              "              title=\"Convert this dataframe to an interactive table.\"\n",
              "              style=\"display:none;\">\n",
              "        \n",
              "  <svg xmlns=\"http://www.w3.org/2000/svg\" height=\"24px\"viewBox=\"0 0 24 24\"\n",
              "       width=\"24px\">\n",
              "    <path d=\"M0 0h24v24H0V0z\" fill=\"none\"/>\n",
              "    <path d=\"M18.56 5.44l.94 2.06.94-2.06 2.06-.94-2.06-.94-.94-2.06-.94 2.06-2.06.94zm-11 1L8.5 8.5l.94-2.06 2.06-.94-2.06-.94L8.5 2.5l-.94 2.06-2.06.94zm10 10l.94 2.06.94-2.06 2.06-.94-2.06-.94-.94-2.06-.94 2.06-2.06.94z\"/><path d=\"M17.41 7.96l-1.37-1.37c-.4-.4-.92-.59-1.43-.59-.52 0-1.04.2-1.43.59L10.3 9.45l-7.72 7.72c-.78.78-.78 2.05 0 2.83L4 21.41c.39.39.9.59 1.41.59.51 0 1.02-.2 1.41-.59l7.78-7.78 2.81-2.81c.8-.78.8-2.07 0-2.86zM5.41 20L4 18.59l7.72-7.72 1.47 1.35L5.41 20z\"/>\n",
              "  </svg>\n",
              "      </button>\n",
              "      \n",
              "  <style>\n",
              "    .colab-df-container {\n",
              "      display:flex;\n",
              "      flex-wrap:wrap;\n",
              "      gap: 12px;\n",
              "    }\n",
              "\n",
              "    .colab-df-convert {\n",
              "      background-color: #E8F0FE;\n",
              "      border: none;\n",
              "      border-radius: 50%;\n",
              "      cursor: pointer;\n",
              "      display: none;\n",
              "      fill: #1967D2;\n",
              "      height: 32px;\n",
              "      padding: 0 0 0 0;\n",
              "      width: 32px;\n",
              "    }\n",
              "\n",
              "    .colab-df-convert:hover {\n",
              "      background-color: #E2EBFA;\n",
              "      box-shadow: 0px 1px 2px rgba(60, 64, 67, 0.3), 0px 1px 3px 1px rgba(60, 64, 67, 0.15);\n",
              "      fill: #174EA6;\n",
              "    }\n",
              "\n",
              "    [theme=dark] .colab-df-convert {\n",
              "      background-color: #3B4455;\n",
              "      fill: #D2E3FC;\n",
              "    }\n",
              "\n",
              "    [theme=dark] .colab-df-convert:hover {\n",
              "      background-color: #434B5C;\n",
              "      box-shadow: 0px 1px 3px 1px rgba(0, 0, 0, 0.15);\n",
              "      filter: drop-shadow(0px 1px 2px rgba(0, 0, 0, 0.3));\n",
              "      fill: #FFFFFF;\n",
              "    }\n",
              "  </style>\n",
              "\n",
              "      <script>\n",
              "        const buttonEl =\n",
              "          document.querySelector('#df-cd68ed57-cc36-4ae7-ac28-bfc1975343a3 button.colab-df-convert');\n",
              "        buttonEl.style.display =\n",
              "          google.colab.kernel.accessAllowed ? 'block' : 'none';\n",
              "\n",
              "        async function convertToInteractive(key) {\n",
              "          const element = document.querySelector('#df-cd68ed57-cc36-4ae7-ac28-bfc1975343a3');\n",
              "          const dataTable =\n",
              "            await google.colab.kernel.invokeFunction('convertToInteractive',\n",
              "                                                     [key], {});\n",
              "          if (!dataTable) return;\n",
              "\n",
              "          const docLinkHtml = 'Like what you see? Visit the ' +\n",
              "            '<a target=\"_blank\" href=https://colab.research.google.com/notebooks/data_table.ipynb>data table notebook</a>'\n",
              "            + ' to learn more about interactive tables.';\n",
              "          element.innerHTML = '';\n",
              "          dataTable['output_type'] = 'display_data';\n",
              "          await google.colab.output.renderOutput(dataTable, element);\n",
              "          const docLink = document.createElement('div');\n",
              "          docLink.innerHTML = docLinkHtml;\n",
              "          element.appendChild(docLink);\n",
              "        }\n",
              "      </script>\n",
              "    </div>\n",
              "  </div>\n",
              "  "
            ]
          },
          "metadata": {},
          "execution_count": 2
        }
      ]
    },
    {
      "cell_type": "code",
      "source": [
        "# check to see if the experiment worked properly\n",
        "# trials should either end in success? = true or collapse? = true.\n",
        "# trials that hit the time limit (5000 steps) do not provide a clear picture.\n",
        "\n",
        "time_limit = data['[step]'] == 5000\n",
        "np.sum(time_limit)\n",
        "\n",
        "# one trial hit the time limit\n",
        "# so the results should be pretty reliable."
      ],
      "metadata": {
        "colab": {
          "base_uri": "https://localhost:8080/"
        },
        "id": "vnBLeLFKFJdL",
        "outputId": "c20f403d-70b8-46e9-cae6-67fcafe1ca24"
      },
      "execution_count": 3,
      "outputs": [
        {
          "output_type": "execute_result",
          "data": {
            "text/plain": [
              "1"
            ]
          },
          "metadata": {},
          "execution_count": 3
        }
      ]
    },
    {
      "cell_type": "code",
      "source": [
        "# pull out the success column\n",
        "# and the pairing column\n",
        "\n",
        "success = data[\"success?\"]\n",
        "pairing = data[\"random-pairing\"]\n",
        "\n",
        "# for each of the random pairing parameter values simulated,\n",
        "# pull out the subset of the data and find the mean\n",
        "# success rate\n",
        "\n",
        "params = [0.1,0.2,0.3,0.4,0.5,0.6,0.7,0.8,0.9,1]\n",
        "\n",
        "success_by_pairing = [success[pairing == p] for p in params]\n",
        "mean_success_by_pairing_param = [np.mean(l) for l in success_by_pairing]\n",
        "\n",
        "mean_success_by_pairing_param"
      ],
      "metadata": {
        "colab": {
          "base_uri": "https://localhost:8080/"
        },
        "id": "q7Xss5ttXSio",
        "outputId": "cdcd651f-8b96-472b-e973-a70568940750"
      },
      "execution_count": 4,
      "outputs": [
        {
          "output_type": "execute_result",
          "data": {
            "text/plain": [
              "[0.974, 0.92, 0.71, 0.286, 0.046, 0.002, 0.0, 0.0, 0.0, 0.0]"
            ]
          },
          "metadata": {},
          "execution_count": 4
        }
      ]
    },
    {
      "cell_type": "code",
      "source": [
        "# generate a bar chart from mean_success_by_pairing_params\n",
        "\n",
        "plt.bar(params,mean_success_by_pairing_param,width=.09)\n",
        "\n",
        "# add labels and aesthetic features\n",
        "\n",
        "plt.xticks(params)\n",
        "plt.ylabel('Frequency of success')\n",
        "plt.xlabel('Probability of random pairing')\n",
        "plt.title('Sensitivity analysis for random pairing parameter')\n",
        "plt.show()"
      ],
      "metadata": {
        "colab": {
          "base_uri": "https://localhost:8080/",
          "height": 411
        },
        "id": "oD0g-6veZGo8",
        "outputId": "4396886b-8780-4081-f8da-1121f6e39508"
      },
      "execution_count": 5,
      "outputs": [
        {
          "output_type": "display_data",
          "data": {
            "text/plain": [
              "<Figure size 576x432 with 1 Axes>"
            ],
            "image/png": "[encoded data removed]"
          },
          "metadata": {
            "needs_background": "light"
          }
        }
      ]
    },
    {
      "cell_type": "code",
      "source": [
        "# generate a bar chart from mean_success_by_pairing_params\n",
        "\n",
        "plt.bar(params,mean_success_by_pairing_param,width=.09,color='black')\n",
        "\n",
        "# add labels and aesthetic features\n",
        "\n",
        "plt.xticks(params)\n",
        "plt.ylabel('Frequency of success')\n",
        "plt.xlabel('Probability of random pairing')\n",
        "plt.title('Sensitivity analysis for random pairing parameter')\n",
        "plt.show()"
      ],
      "metadata": {
        "colab": {
          "base_uri": "https://localhost:8080/",
          "height": 411
        },
        "id": "PlpmaUyY4_ga",
        "outputId": "ff3dc93d-3a69-466e-a66d-61c39ee7f969"
      },
      "execution_count": 6,
      "outputs": [
        {
          "output_type": "display_data",
          "data": {
            "text/plain": [
              "<Figure size 576x432 with 1 Axes>"
            ],
            "image/png": "[encoded data removed]"
          },
          "metadata": {
            "needs_background": "light"
          }
        }
      ]
    },
    {
      "cell_type": "markdown",
      "source": [
        "*Figure 1: Bar heights represent the frequency of simulation experiments that\n",
        "ended in uniform similarity-biased social learning. 500 trials were conducted\n",
        "at each 0.1 increment of the random pairing parameter between 0 and 1. The\n",
        "results show similarity-biased social learning is more likely to evolve when most\n",
        "interactions take place within the group.*"
      ],
      "metadata": {
        "id": "VZpMEI9WC21r"
      }
    },
    {
      "cell_type": "code",
      "source": [
        "# repeat the above steps but for the average run time of a simulation\n",
        "\n",
        "steps = data['[step]']\n",
        "\n",
        "steps_by_pairing = [steps[pairing == p] for p in params]\n",
        "mean_steps_by_pairing_param = [np.mean(l) for l in steps_by_pairing]\n",
        "\n",
        "plt.bar(params,mean_steps_by_pairing_param,width=.09)\n",
        "plt.xticks(params)\n",
        "plt.title(\"Weakness of selection by pairing parameter\")\n",
        "plt.ylabel('Time until completion (by number of rounds)')\n",
        "plt.xlabel('Probabiliy of random pairing')\n",
        "plt.show()"
      ],
      "metadata": {
        "colab": {
          "base_uri": "https://localhost:8080/",
          "height": 411
        },
        "id": "z2O_WMatZVvr",
        "outputId": "8e5c688e-c855-4640-cdcd-efd8e3fd6f98"
      },
      "execution_count": 7,
      "outputs": [
        {
          "output_type": "display_data",
          "data": {
            "text/plain": [
              "<Figure size 576x432 with 1 Axes>"
            ],
            "image/png": "[encoded data removed]"
          },
          "metadata": {
            "needs_background": "light"
          }
        }
      ]
    },
    {
      "cell_type": "code",
      "source": [
        "# repeat the above steps but for the average run time of a simulation\n",
        "\n",
        "steps = data['[step]']\n",
        "\n",
        "steps_by_pairing = [steps[pairing == p] for p in params]\n",
        "mean_steps_by_pairing_param = [np.mean(l) for l in steps_by_pairing]\n",
        "\n",
        "plt.bar(params,mean_steps_by_pairing_param,width=.09,color='black')\n",
        "plt.xticks(params)\n",
        "plt.title(\"Weakness of selection by pairing parameter\")\n",
        "plt.ylabel('Time until completion (by number of rounds)')\n",
        "plt.xlabel('Probabiliy of random pairing')\n",
        "plt.show()"
      ],
      "metadata": {
        "colab": {
          "base_uri": "https://localhost:8080/",
          "height": 411
        },
        "id": "_4SAMWPw5FCX",
        "outputId": "fbd7ed14-f35f-4a70-8de5-870ce7d11639"
      },
      "execution_count": 8,
      "outputs": [
        {
          "output_type": "display_data",
          "data": {
            "text/plain": [
              "<Figure size 576x432 with 1 Axes>"
            ],
            "image/png": "[encoded data removed]"
          },
          "metadata": {
            "needs_background": "light"
          }
        }
      ]
    },
    {
      "cell_type": "markdown",
      "source": [
        "*Figure 2: Bar heights represent the average number of rounds it takes the\n",
        "model to reach a stable state, either the distinctive strategy outcome or the\n",
        "assimilation outcome. These data were extracted from the same experiments\n",
        "depicted in figure 1. As random pairing decreases, the model takes exponentially\n",
        "more time to reach a stable state. Tall bars indicate weak selection.*"
      ],
      "metadata": {
        "id": "2EvvuxH1C-Al"
      }
    },
    {
      "cell_type": "markdown",
      "source": [
        "## Initial frequency sensitivity analysis\n",
        "\n",
        "Second, I wanted to see how the model changes as the initial frequency of the learning bias changes. These simulation adjusted the proportion of players employing ethnicity-biased learning from [0.1, 0.5]."
      ],
      "metadata": {
        "id": "QH8LiYLrweDe"
      }
    },
    {
      "cell_type": "code",
      "source": [
        "url = \"https://raw.githubusercontent.com/daniel-saunders-phil/dowry-game/main/data/ethnicity%20bias%20learning%20-%20github%20version%20sensitivity_to_initial_bias-table.csv\"\n",
        "\n",
        "# extract data\n",
        "\n",
        "data = pd.read_csv(url,header=6)\n",
        "data"
      ],
      "metadata": {
        "colab": {
          "base_uri": "https://localhost:8080/",
          "height": 505
        },
        "id": "0eAvpRaHsjBC",
        "outputId": "0e52cb2b-3b6d-462e-a158-55bbed827765"
      },
      "execution_count": 9,
      "outputs": [
        {
          "output_type": "execute_result",
          "data": {
            "text/plain": [
              "      [run number]  spatial?  random-pairing  mr_learning_strategy  \\\n",
              "0                3     False             0.2                     0   \n",
              "1                1     False             0.2                     0   \n",
              "2                4     False             0.2                     0   \n",
              "3                2     False             0.2                     0   \n",
              "4                5     False             0.2                     0   \n",
              "...            ...       ...             ...                   ...   \n",
              "2495          2497     False             0.2                     0   \n",
              "2496          2498     False             0.2                     0   \n",
              "2497          2491     False             0.2                     0   \n",
              "2498          2499     False             0.2                     0   \n",
              "2499          2500     False             0.2                     0   \n",
              "\n",
              "      conditional_strategies?  initial_proportion_ethnic_learning  \\\n",
              "0                       False                                 0.1   \n",
              "1                       False                                 0.1   \n",
              "2                       False                                 0.1   \n",
              "3                       False                                 0.1   \n",
              "4                       False                                 0.1   \n",
              "...                       ...                                 ...   \n",
              "2495                    False                                 0.5   \n",
              "2496                    False                                 0.5   \n",
              "2497                    False                                 0.5   \n",
              "2498                    False                                 0.5   \n",
              "2499                    False                                 0.5   \n",
              "\n",
              "      plays_per_learn  mr_strategy  [step]  success?  collapse?  \n",
              "0                   1            0      14     False       True  \n",
              "1                   1            0      14     False       True  \n",
              "2                   1            0      14     False       True  \n",
              "3                   1            0      17     False       True  \n",
              "4                   1            0      15     False       True  \n",
              "...               ...          ...     ...       ...        ...  \n",
              "2495                1            0     239      True      False  \n",
              "2496                1            0     487      True      False  \n",
              "2497                1            0    1250      True      False  \n",
              "2498                1            0     653      True      False  \n",
              "2499                1            0     502      True      False  \n",
              "\n",
              "[2500 rows x 11 columns]"
            ],
            "text/html": [
              "\n",
              "  <div id=\"df-640d2074-ea26-49da-b7c4-43073138bdf6\">\n",
              "    <div class=\"colab-df-container\">\n",
              "      <div>\n",
              "<style scoped>\n",
              "    .dataframe tbody tr th:only-of-type {\n",
              "        vertical-align: middle;\n",
              "    }\n",
              "\n",
              "    .dataframe tbody tr th {\n",
              "        vertical-align: top;\n",
              "    }\n",
              "\n",
              "    .dataframe thead th {\n",
              "        text-align: right;\n",
              "    }\n",
              "</style>\n",
              "<table border=\"1\" class=\"dataframe\">\n",
              "  <thead>\n",
              "    <tr style=\"text-align: right;\">\n",
              "      <th></th>\n",
              "      <th>[run number]</th>\n",
              "      <th>spatial?</th>\n",
              "      <th>random-pairing</th>\n",
              "      <th>mr_learning_strategy</th>\n",
              "      <th>conditional_strategies?</th>\n",
              "      <th>initial_proportion_ethnic_learning</th>\n",
              "      <th>plays_per_learn</th>\n",
              "      <th>mr_strategy</th>\n",
              "      <th>[step]</th>\n",
              "      <th>success?</th>\n",
              "      <th>collapse?</th>\n",
              "    </tr>\n",
              "  </thead>\n",
              "  <tbody>\n",
              "    <tr>\n",
              "      <th>0</th>\n",
              "      <td>3</td>\n",
              "      <td>False</td>\n",
              "      <td>0.2</td>\n",
              "      <td>0</td>\n",
              "      <td>False</td>\n",
              "      <td>0.1</td>\n",
              "      <td>1</td>\n",
              "      <td>0</td>\n",
              "      <td>14</td>\n",
              "      <td>False</td>\n",
              "      <td>True</td>\n",
              "    </tr>\n",
              "    <tr>\n",
              "      <th>1</th>\n",
              "      <td>1</td>\n",
              "      <td>False</td>\n",
              "      <td>0.2</td>\n",
              "      <td>0</td>\n",
              "      <td>False</td>\n",
              "      <td>0.1</td>\n",
              "      <td>1</td>\n",
              "      <td>0</td>\n",
              "      <td>14</td>\n",
              "      <td>False</td>\n",
              "      <td>True</td>\n",
              "    </tr>\n",
              "    <tr>\n",
              "      <th>2</th>\n",
              "      <td>4</td>\n",
              "      <td>False</td>\n",
              "      <td>0.2</td>\n",
              "      <td>0</td>\n",
              "      <td>False</td>\n",
              "      <td>0.1</td>\n",
              "      <td>1</td>\n",
              "      <td>0</td>\n",
              "      <td>14</td>\n",
              "      <td>False</td>\n",
              "      <td>True</td>\n",
              "    </tr>\n",
              "    <tr>\n",
              "      <th>3</th>\n",
              "      <td>2</td>\n",
              "      <td>False</td>\n",
              "      <td>0.2</td>\n",
              "      <td>0</td>\n",
              "      <td>False</td>\n",
              "      <td>0.1</td>\n",
              "      <td>1</td>\n",
              "      <td>0</td>\n",
              "      <td>17</td>\n",
              "      <td>False</td>\n",
              "      <td>True</td>\n",
              "    </tr>\n",
              "    <tr>\n",
              "      <th>4</th>\n",
              "      <td>5</td>\n",
              "      <td>False</td>\n",
              "      <td>0.2</td>\n",
              "      <td>0</td>\n",
              "      <td>False</td>\n",
              "      <td>0.1</td>\n",
              "      <td>1</td>\n",
              "      <td>0</td>\n",
              "      <td>15</td>\n",
              "      <td>False</td>\n",
              "      <td>True</td>\n",
              "    </tr>\n",
              "    <tr>\n",
              "      <th>...</th>\n",
              "      <td>...</td>\n",
              "      <td>...</td>\n",
              "      <td>...</td>\n",
              "      <td>...</td>\n",
              "      <td>...</td>\n",
              "      <td>...</td>\n",
              "      <td>...</td>\n",
              "      <td>...</td>\n",
              "      <td>...</td>\n",
              "      <td>...</td>\n",
              "      <td>...</td>\n",
              "    </tr>\n",
              "    <tr>\n",
              "      <th>2495</th>\n",
              "      <td>2497</td>\n",
              "      <td>False</td>\n",
              "      <td>0.2</td>\n",
              "      <td>0</td>\n",
              "      <td>False</td>\n",
              "      <td>0.5</td>\n",
              "      <td>1</td>\n",
              "      <td>0</td>\n",
              "      <td>239</td>\n",
              "      <td>True</td>\n",
              "      <td>False</td>\n",
              "    </tr>\n",
              "    <tr>\n",
              "      <th>2496</th>\n",
              "      <td>2498</td>\n",
              "      <td>False</td>\n",
              "      <td>0.2</td>\n",
              "      <td>0</td>\n",
              "      <td>False</td>\n",
              "      <td>0.5</td>\n",
              "      <td>1</td>\n",
              "      <td>0</td>\n",
              "      <td>487</td>\n",
              "      <td>True</td>\n",
              "      <td>False</td>\n",
              "    </tr>\n",
              "    <tr>\n",
              "      <th>2497</th>\n",
              "      <td>2491</td>\n",
              "      <td>False</td>\n",
              "      <td>0.2</td>\n",
              "      <td>0</td>\n",
              "      <td>False</td>\n",
              "      <td>0.5</td>\n",
              "      <td>1</td>\n",
              "      <td>0</td>\n",
              "      <td>1250</td>\n",
              "      <td>True</td>\n",
              "      <td>False</td>\n",
              "    </tr>\n",
              "    <tr>\n",
              "      <th>2498</th>\n",
              "      <td>2499</td>\n",
              "      <td>False</td>\n",
              "      <td>0.2</td>\n",
              "      <td>0</td>\n",
              "      <td>False</td>\n",
              "      <td>0.5</td>\n",
              "      <td>1</td>\n",
              "      <td>0</td>\n",
              "      <td>653</td>\n",
              "      <td>True</td>\n",
              "      <td>False</td>\n",
              "    </tr>\n",
              "    <tr>\n",
              "      <th>2499</th>\n",
              "      <td>2500</td>\n",
              "      <td>False</td>\n",
              "      <td>0.2</td>\n",
              "      <td>0</td>\n",
              "      <td>False</td>\n",
              "      <td>0.5</td>\n",
              "      <td>1</td>\n",
              "      <td>0</td>\n",
              "      <td>502</td>\n",
              "      <td>True</td>\n",
              "      <td>False</td>\n",
              "    </tr>\n",
              "  </tbody>\n",
              "</table>\n",
              "<p>2500 rows × 11 columns</p>\n",
              "</div>\n",
              "      <button class=\"colab-df-convert\" onclick=\"convertToInteractive('df-640d2074-ea26-49da-b7c4-43073138bdf6')\"\n",
              "              title=\"Convert this dataframe to an interactive table.\"\n",
              "              style=\"display:none;\">\n",
              "        \n",
              "  <svg xmlns=\"http://www.w3.org/2000/svg\" height=\"24px\"viewBox=\"0 0 24 24\"\n",
              "       width=\"24px\">\n",
              "    <path d=\"M0 0h24v24H0V0z\" fill=\"none\"/>\n",
              "    <path d=\"M18.56 5.44l.94 2.06.94-2.06 2.06-.94-2.06-.94-.94-2.06-.94 2.06-2.06.94zm-11 1L8.5 8.5l.94-2.06 2.06-.94-2.06-.94L8.5 2.5l-.94 2.06-2.06.94zm10 10l.94 2.06.94-2.06 2.06-.94-2.06-.94-.94-2.06-.94 2.06-2.06.94z\"/><path d=\"M17.41 7.96l-1.37-1.37c-.4-.4-.92-.59-1.43-.59-.52 0-1.04.2-1.43.59L10.3 9.45l-7.72 7.72c-.78.78-.78 2.05 0 2.83L4 21.41c.39.39.9.59 1.41.59.51 0 1.02-.2 1.41-.59l7.78-7.78 2.81-2.81c.8-.78.8-2.07 0-2.86zM5.41 20L4 18.59l7.72-7.72 1.47 1.35L5.41 20z\"/>\n",
              "  </svg>\n",
              "      </button>\n",
              "      \n",
              "  <style>\n",
              "    .colab-df-container {\n",
              "      display:flex;\n",
              "      flex-wrap:wrap;\n",
              "      gap: 12px;\n",
              "    }\n",
              "\n",
              "    .colab-df-convert {\n",
              "      background-color: #E8F0FE;\n",
              "      border: none;\n",
              "      border-radius: 50%;\n",
              "      cursor: pointer;\n",
              "      display: none;\n",
              "      fill: #1967D2;\n",
              "      height: 32px;\n",
              "      padding: 0 0 0 0;\n",
              "      width: 32px;\n",
              "    }\n",
              "\n",
              "    .colab-df-convert:hover {\n",
              "      background-color: #E2EBFA;\n",
              "      box-shadow: 0px 1px 2px rgba(60, 64, 67, 0.3), 0px 1px 3px 1px rgba(60, 64, 67, 0.15);\n",
              "      fill: #174EA6;\n",
              "    }\n",
              "\n",
              "    [theme=dark] .colab-df-convert {\n",
              "      background-color: #3B4455;\n",
              "      fill: #D2E3FC;\n",
              "    }\n",
              "\n",
              "    [theme=dark] .colab-df-convert:hover {\n",
              "      background-color: #434B5C;\n",
              "      box-shadow: 0px 1px 3px 1px rgba(0, 0, 0, 0.15);\n",
              "      filter: drop-shadow(0px 1px 2px rgba(0, 0, 0, 0.3));\n",
              "      fill: #FFFFFF;\n",
              "    }\n",
              "  </style>\n",
              "\n",
              "      <script>\n",
              "        const buttonEl =\n",
              "          document.querySelector('#df-640d2074-ea26-49da-b7c4-43073138bdf6 button.colab-df-convert');\n",
              "        buttonEl.style.display =\n",
              "          google.colab.kernel.accessAllowed ? 'block' : 'none';\n",
              "\n",
              "        async function convertToInteractive(key) {\n",
              "          const element = document.querySelector('#df-640d2074-ea26-49da-b7c4-43073138bdf6');\n",
              "          const dataTable =\n",
              "            await google.colab.kernel.invokeFunction('convertToInteractive',\n",
              "                                                     [key], {});\n",
              "          if (!dataTable) return;\n",
              "\n",
              "          const docLinkHtml = 'Like what you see? Visit the ' +\n",
              "            '<a target=\"_blank\" href=https://colab.research.google.com/notebooks/data_table.ipynb>data table notebook</a>'\n",
              "            + ' to learn more about interactive tables.';\n",
              "          element.innerHTML = '';\n",
              "          dataTable['output_type'] = 'display_data';\n",
              "          await google.colab.output.renderOutput(dataTable, element);\n",
              "          const docLink = document.createElement('div');\n",
              "          docLink.innerHTML = docLinkHtml;\n",
              "          element.appendChild(docLink);\n",
              "        }\n",
              "      </script>\n",
              "    </div>\n",
              "  </div>\n",
              "  "
            ]
          },
          "metadata": {},
          "execution_count": 9
        }
      ]
    },
    {
      "cell_type": "code",
      "source": [
        "# check to see if the experiment worked properly\n",
        "# trials should either end in success? = true or collapse? = true.\n",
        "# trials that hit the time limit (5000 steps) do not provide a clear picture.\n",
        "\n",
        "time_limit = data['[step]'] == 5000\n",
        "np.sum(time_limit)\n",
        "\n",
        "# zero trials hit the time limit - nice."
      ],
      "metadata": {
        "colab": {
          "base_uri": "https://localhost:8080/"
        },
        "id": "4gw4B66dF637",
        "outputId": "a913371f-e7ca-4892-ca75-c4fd1f5c72e7"
      },
      "execution_count": 10,
      "outputs": [
        {
          "output_type": "execute_result",
          "data": {
            "text/plain": [
              "0"
            ]
          },
          "metadata": {},
          "execution_count": 10
        }
      ]
    },
    {
      "cell_type": "code",
      "source": [
        "initial = data['initial_proportion_ethnic_learning']\n",
        "\n",
        "params = [0.1,0.2,0.3,0.4,0.5]\n",
        "\n",
        "summary = []\n",
        "\n",
        "# find the frequency of success at each\n",
        "# level of initial frequency\n",
        "# and put that frequency into the summary list\n",
        "\n",
        "for p in params:\n",
        "  selector = initial == p\n",
        "  filtered_data = data[selector]\n",
        "  success_by_param = np.mean(filtered_data['success?'])\n",
        "  summary.append(success_by_param)\n",
        "\n",
        "# display the summary\n",
        "\n",
        "summary"
      ],
      "metadata": {
        "colab": {
          "base_uri": "https://localhost:8080/"
        },
        "id": "QVz1ZmbTs0Vg",
        "outputId": "311a11ef-387e-40b3-d742-6c4c7b7b85d5"
      },
      "execution_count": 11,
      "outputs": [
        {
          "output_type": "execute_result",
          "data": {
            "text/plain": [
              "[0.0, 0.016, 0.15, 0.616, 0.932]"
            ]
          },
          "metadata": {},
          "execution_count": 11
        }
      ]
    },
    {
      "cell_type": "code",
      "source": [
        "# a bar chart visualizing that summary\n",
        "\n",
        "plt.bar(params,summary,width=.09)\n",
        "plt.xticks(params)\n",
        "plt.xlabel('Initial frequency of biased learners')\n",
        "plt.ylabel('Frequency of success')\n",
        "plt.title(\"Sensitivity analysis for initial frequencies of the learning bias\")\n",
        "plt.show()"
      ],
      "metadata": {
        "colab": {
          "base_uri": "https://localhost:8080/",
          "height": 411
        },
        "id": "fA7_VUiYwXzE",
        "outputId": "f5b10662-546e-4002-89fd-78a633155fe4"
      },
      "execution_count": 12,
      "outputs": [
        {
          "output_type": "display_data",
          "data": {
            "text/plain": [
              "<Figure size 576x432 with 1 Axes>"
            ],
            "image/png": "[encoded data removed]"
          },
          "metadata": {
            "needs_background": "light"
          }
        }
      ]
    },
    {
      "cell_type": "code",
      "source": [
        "plt.bar(params,summary,width=.09,color=\"black\")\n",
        "plt.xticks(params)\n",
        "plt.xlabel('Initial frequency of biased learners')\n",
        "plt.ylabel('Frequency of success')\n",
        "plt.title(\"Sensitivity analysis for initial frequencies of the learning bias\")\n",
        "plt.show()"
      ],
      "metadata": {
        "colab": {
          "base_uri": "https://localhost:8080/",
          "height": 411
        },
        "id": "BOapB1Le5Jsc",
        "outputId": "ee24ac62-d08d-46d3-864c-1f58bd9ae171"
      },
      "execution_count": 13,
      "outputs": [
        {
          "output_type": "display_data",
          "data": {
            "text/plain": [
              "<Figure size 576x432 with 1 Axes>"
            ],
            "image/png": "[encoded data removed]"
          },
          "metadata": {
            "needs_background": "light"
          }
        }
      ]
    },
    {
      "cell_type": "markdown",
      "source": [
        "*Figure 3: Bar heights represent the frequency of simulation experiments that\n",
        "ended in uniform similarity-biased social learning. 500 simulations were run\n",
        "at each parameter value. The random pairing parameter was set to 0.2. As\n",
        "the initial frequency of the learning bias decreases, so does the probability that learning bias will spread*"
      ],
      "metadata": {
        "id": "8HMznc4ADpeT"
      }
    },
    {
      "cell_type": "markdown",
      "source": [
        "## Population Size"
      ],
      "metadata": {
        "id": "MfdQadCr5plF"
      }
    },
    {
      "cell_type": "code",
      "source": [
        "url = \"https://raw.githubusercontent.com/daniel-saunders-phil/dowry-game/main/data/ethnicity%20bias%20learning%20-%20bjps%20revisions%20-%20varying%20population%20sizes%20sensitivity_to_random_pairing_majority_minority-table.csv\"\n",
        "\n",
        "data = pd.read_csv(url,header=6)\n",
        "data\n",
        "\n",
        "selector = data['shift'] == 0.1\n",
        "data = data[selector]\n",
        "\n",
        "# check to see if the experiment worked properly\n",
        "# trials should either end in success? = true or collapse? = true.\n",
        "# trials that hit the time limit (5000 steps) do not provide a clear picture.\n",
        "\n",
        "time_limit = data['[step]'] == 5000\n",
        "#print('num hit time limit:',np.sum(time_limit))\n",
        "\n",
        "# pull out the success column\n",
        "# and the pairing column\n",
        "\n",
        "success = data[\"success?\"]\n",
        "pairing = data[\"random-pairing\"]\n",
        "\n",
        "# for each of the random pairing parameter values simulated,\n",
        "# pull out the subset of the data and find the mean\n",
        "# success rate\n",
        "\n",
        "params = [0.1,0.2,0.3,0.4,0.5,0.6,0.7,0.8,0.9,1]\n",
        "\n",
        "success_by_pairing = [success[pairing == p] for p in params]\n",
        "mean_success_by_pairing_param = [np.mean(l) for l in success_by_pairing]\n",
        "\n",
        "mean_success_by_pairing_param\n",
        "\n",
        "# generate a bar chart from mean_success_by_pairing_params\n",
        "\n",
        "plt.bar(params,mean_success_by_pairing_param,width=.09)\n",
        "\n",
        "# add labels and aesthetic features\n",
        "\n",
        "plt.xticks(params)\n",
        "plt.ylabel('Frequency of success')\n",
        "plt.xlabel('Probability of random pairing')\n",
        "plt.title('Sensitivity when one group is 55% of total population')\n",
        "plt.ylim(0,1)\n",
        "plt.show()\n",
        "\n"
      ],
      "metadata": {
        "colab": {
          "base_uri": "https://localhost:8080/",
          "height": 411
        },
        "id": "5zov4rAj6dMx",
        "outputId": "f255551d-e3ca-4834-cdaa-b5d1d378990d"
      },
      "execution_count": 14,
      "outputs": [
        {
          "output_type": "display_data",
          "data": {
            "text/plain": [
              "<Figure size 576x432 with 1 Axes>"
            ],
            "image/png": "[encoded data removed]"
          },
          "metadata": {
            "needs_background": "light"
          }
        }
      ]
    },
    {
      "cell_type": "code",
      "source": [
        "# generate a bar chart from mean_success_by_pairing_params\n",
        "\n",
        "plt.bar(params,mean_success_by_pairing_param,width=.09,color=\"black\")\n",
        "\n",
        "# add labels and aesthetic features\n",
        "\n",
        "plt.xticks(params)\n",
        "plt.ylabel('Frequency of success')\n",
        "plt.xlabel('Probability of random pairing')\n",
        "plt.title('Sensitivity when one group is 55% of total population')\n",
        "plt.ylim(0,1)\n",
        "plt.show()"
      ],
      "metadata": {
        "colab": {
          "base_uri": "https://localhost:8080/",
          "height": 411
        },
        "id": "iupYlBiz7ke6",
        "outputId": "d45fa4ae-7541-47aa-f3f2-f5b9f0911419"
      },
      "execution_count": 15,
      "outputs": [
        {
          "output_type": "display_data",
          "data": {
            "text/plain": [
              "<Figure size 576x432 with 1 Axes>"
            ],
            "image/png": "[encoded data removed]"
          },
          "metadata": {
            "needs_background": "light"
          }
        }
      ]
    },
    {
      "cell_type": "markdown",
      "source": [
        "*Figure 4: Bar heights represent the frequency of simulation experiments that ended in\n",
        "uniform similarity-biased social learning. 100 simulations were run at each parameter\n",
        "value. The initial frequency of the learning bias was set to 0.5. Comparison with figure\n",
        "1 reveals unequal population sizes have a substantial negative impact on the probability\n",
        "of success.*"
      ],
      "metadata": {
        "id": "DBEUg-CA7uKp"
      }
    },
    {
      "cell_type": "markdown",
      "source": [
        "## Playing to learning ratio\n",
        "\n",
        "Third, I wanted to see how the behavior of the model changes when players play more often than they learn."
      ],
      "metadata": {
        "id": "neFPz0ZfbV1x"
      }
    },
    {
      "cell_type": "code",
      "source": [
        "url = \"https://raw.githubusercontent.com/daniel-saunders-phil/dowry-game/main/data/ethnicity%20bias%20learning%20-%20github%20version%2010_plays_per_learn-table.csv\"\n",
        "\n",
        "# extract the data\n",
        "\n",
        "data = pd.read_csv(url,header=6)\n",
        "data"
      ],
      "metadata": {
        "colab": {
          "base_uri": "https://localhost:8080/",
          "height": 505
        },
        "id": "zH_MBjrdbZod",
        "outputId": "a8cfe4f2-f990-4fb0-9317-43f1adad4081"
      },
      "execution_count": 16,
      "outputs": [
        {
          "output_type": "execute_result",
          "data": {
            "text/plain": [
              "      [run number]  spatial?  random-pairing  mr_learning_strategy  \\\n",
              "0                4     False             0.1                     0   \n",
              "1                3     False             0.1                     0   \n",
              "2                6     False             0.1                     0   \n",
              "3                5     False             0.1                     0   \n",
              "4                2     False             0.1                     0   \n",
              "...            ...       ...             ...                   ...   \n",
              "2495          2499     False             0.5                     0   \n",
              "2496          2497     False             0.5                     0   \n",
              "2497          2496     False             0.5                     0   \n",
              "2498          2498     False             0.5                     0   \n",
              "2499          2500     False             0.5                     0   \n",
              "\n",
              "      conditional_strategies?  initial_proportion_ethnic_learning  \\\n",
              "0                       False                                 0.1   \n",
              "1                       False                                 0.1   \n",
              "2                       False                                 0.1   \n",
              "3                       False                                 0.1   \n",
              "4                       False                                 0.1   \n",
              "...                       ...                                 ...   \n",
              "2495                    False                                 0.5   \n",
              "2496                    False                                 0.5   \n",
              "2497                    False                                 0.5   \n",
              "2498                    False                                 0.5   \n",
              "2499                    False                                 0.5   \n",
              "\n",
              "      plays_per_learn  mr_strategy  [step]  success?  collapse?  \n",
              "0                  10            0      18     False       True  \n",
              "1                  10            0      20     False       True  \n",
              "2                  10            0      21     False       True  \n",
              "3                  10            0      27     False       True  \n",
              "4                  10            0      48     False       True  \n",
              "...               ...          ...     ...       ...        ...  \n",
              "2495               10            0      78     False       True  \n",
              "2496               10            0     185      True      False  \n",
              "2497               10            0     213      True      False  \n",
              "2498               10            0     288      True      False  \n",
              "2499               10            0     290      True      False  \n",
              "\n",
              "[2500 rows x 11 columns]"
            ],
            "text/html": [
              "\n",
              "  <div id=\"df-76bd3ce8-1b56-4560-b3b6-35979fb6caff\">\n",
              "    <div class=\"colab-df-container\">\n",
              "      <div>\n",
              "<style scoped>\n",
              "    .dataframe tbody tr th:only-of-type {\n",
              "        vertical-align: middle;\n",
              "    }\n",
              "\n",
              "    .dataframe tbody tr th {\n",
              "        vertical-align: top;\n",
              "    }\n",
              "\n",
              "    .dataframe thead th {\n",
              "        text-align: right;\n",
              "    }\n",
              "</style>\n",
              "<table border=\"1\" class=\"dataframe\">\n",
              "  <thead>\n",
              "    <tr style=\"text-align: right;\">\n",
              "      <th></th>\n",
              "      <th>[run number]</th>\n",
              "      <th>spatial?</th>\n",
              "      <th>random-pairing</th>\n",
              "      <th>mr_learning_strategy</th>\n",
              "      <th>conditional_strategies?</th>\n",
              "      <th>initial_proportion_ethnic_learning</th>\n",
              "      <th>plays_per_learn</th>\n",
              "      <th>mr_strategy</th>\n",
              "      <th>[step]</th>\n",
              "      <th>success?</th>\n",
              "      <th>collapse?</th>\n",
              "    </tr>\n",
              "  </thead>\n",
              "  <tbody>\n",
              "    <tr>\n",
              "      <th>0</th>\n",
              "      <td>4</td>\n",
              "      <td>False</td>\n",
              "      <td>0.1</td>\n",
              "      <td>0</td>\n",
              "      <td>False</td>\n",
              "      <td>0.1</td>\n",
              "      <td>10</td>\n",
              "      <td>0</td>\n",
              "      <td>18</td>\n",
              "      <td>False</td>\n",
              "      <td>True</td>\n",
              "    </tr>\n",
              "    <tr>\n",
              "      <th>1</th>\n",
              "      <td>3</td>\n",
              "      <td>False</td>\n",
              "      <td>0.1</td>\n",
              "      <td>0</td>\n",
              "      <td>False</td>\n",
              "      <td>0.1</td>\n",
              "      <td>10</td>\n",
              "      <td>0</td>\n",
              "      <td>20</td>\n",
              "      <td>False</td>\n",
              "      <td>True</td>\n",
              "    </tr>\n",
              "    <tr>\n",
              "      <th>2</th>\n",
              "      <td>6</td>\n",
              "      <td>False</td>\n",
              "      <td>0.1</td>\n",
              "      <td>0</td>\n",
              "      <td>False</td>\n",
              "      <td>0.1</td>\n",
              "      <td>10</td>\n",
              "      <td>0</td>\n",
              "      <td>21</td>\n",
              "      <td>False</td>\n",
              "      <td>True</td>\n",
              "    </tr>\n",
              "    <tr>\n",
              "      <th>3</th>\n",
              "      <td>5</td>\n",
              "      <td>False</td>\n",
              "      <td>0.1</td>\n",
              "      <td>0</td>\n",
              "      <td>False</td>\n",
              "      <td>0.1</td>\n",
              "      <td>10</td>\n",
              "      <td>0</td>\n",
              "      <td>27</td>\n",
              "      <td>False</td>\n",
              "      <td>True</td>\n",
              "    </tr>\n",
              "    <tr>\n",
              "      <th>4</th>\n",
              "      <td>2</td>\n",
              "      <td>False</td>\n",
              "      <td>0.1</td>\n",
              "      <td>0</td>\n",
              "      <td>False</td>\n",
              "      <td>0.1</td>\n",
              "      <td>10</td>\n",
              "      <td>0</td>\n",
              "      <td>48</td>\n",
              "      <td>False</td>\n",
              "      <td>True</td>\n",
              "    </tr>\n",
              "    <tr>\n",
              "      <th>...</th>\n",
              "      <td>...</td>\n",
              "      <td>...</td>\n",
              "      <td>...</td>\n",
              "      <td>...</td>\n",
              "      <td>...</td>\n",
              "      <td>...</td>\n",
              "      <td>...</td>\n",
              "      <td>...</td>\n",
              "      <td>...</td>\n",
              "      <td>...</td>\n",
              "      <td>...</td>\n",
              "    </tr>\n",
              "    <tr>\n",
              "      <th>2495</th>\n",
              "      <td>2499</td>\n",
              "      <td>False</td>\n",
              "      <td>0.5</td>\n",
              "      <td>0</td>\n",
              "      <td>False</td>\n",
              "      <td>0.5</td>\n",
              "      <td>10</td>\n",
              "      <td>0</td>\n",
              "      <td>78</td>\n",
              "      <td>False</td>\n",
              "      <td>True</td>\n",
              "    </tr>\n",
              "    <tr>\n",
              "      <th>2496</th>\n",
              "      <td>2497</td>\n",
              "      <td>False</td>\n",
              "      <td>0.5</td>\n",
              "      <td>0</td>\n",
              "      <td>False</td>\n",
              "      <td>0.5</td>\n",
              "      <td>10</td>\n",
              "      <td>0</td>\n",
              "      <td>185</td>\n",
              "      <td>True</td>\n",
              "      <td>False</td>\n",
              "    </tr>\n",
              "    <tr>\n",
              "      <th>2497</th>\n",
              "      <td>2496</td>\n",
              "      <td>False</td>\n",
              "      <td>0.5</td>\n",
              "      <td>0</td>\n",
              "      <td>False</td>\n",
              "      <td>0.5</td>\n",
              "      <td>10</td>\n",
              "      <td>0</td>\n",
              "      <td>213</td>\n",
              "      <td>True</td>\n",
              "      <td>False</td>\n",
              "    </tr>\n",
              "    <tr>\n",
              "      <th>2498</th>\n",
              "      <td>2498</td>\n",
              "      <td>False</td>\n",
              "      <td>0.5</td>\n",
              "      <td>0</td>\n",
              "      <td>False</td>\n",
              "      <td>0.5</td>\n",
              "      <td>10</td>\n",
              "      <td>0</td>\n",
              "      <td>288</td>\n",
              "      <td>True</td>\n",
              "      <td>False</td>\n",
              "    </tr>\n",
              "    <tr>\n",
              "      <th>2499</th>\n",
              "      <td>2500</td>\n",
              "      <td>False</td>\n",
              "      <td>0.5</td>\n",
              "      <td>0</td>\n",
              "      <td>False</td>\n",
              "      <td>0.5</td>\n",
              "      <td>10</td>\n",
              "      <td>0</td>\n",
              "      <td>290</td>\n",
              "      <td>True</td>\n",
              "      <td>False</td>\n",
              "    </tr>\n",
              "  </tbody>\n",
              "</table>\n",
              "<p>2500 rows × 11 columns</p>\n",
              "</div>\n",
              "      <button class=\"colab-df-convert\" onclick=\"convertToInteractive('df-76bd3ce8-1b56-4560-b3b6-35979fb6caff')\"\n",
              "              title=\"Convert this dataframe to an interactive table.\"\n",
              "              style=\"display:none;\">\n",
              "        \n",
              "  <svg xmlns=\"http://www.w3.org/2000/svg\" height=\"24px\"viewBox=\"0 0 24 24\"\n",
              "       width=\"24px\">\n",
              "    <path d=\"M0 0h24v24H0V0z\" fill=\"none\"/>\n",
              "    <path d=\"M18.56 5.44l.94 2.06.94-2.06 2.06-.94-2.06-.94-.94-2.06-.94 2.06-2.06.94zm-11 1L8.5 8.5l.94-2.06 2.06-.94-2.06-.94L8.5 2.5l-.94 2.06-2.06.94zm10 10l.94 2.06.94-2.06 2.06-.94-2.06-.94-.94-2.06-.94 2.06-2.06.94z\"/><path d=\"M17.41 7.96l-1.37-1.37c-.4-.4-.92-.59-1.43-.59-.52 0-1.04.2-1.43.59L10.3 9.45l-7.72 7.72c-.78.78-.78 2.05 0 2.83L4 21.41c.39.39.9.59 1.41.59.51 0 1.02-.2 1.41-.59l7.78-7.78 2.81-2.81c.8-.78.8-2.07 0-2.86zM5.41 20L4 18.59l7.72-7.72 1.47 1.35L5.41 20z\"/>\n",
              "  </svg>\n",
              "      </button>\n",
              "      \n",
              "  <style>\n",
              "    .colab-df-container {\n",
              "      display:flex;\n",
              "      flex-wrap:wrap;\n",
              "      gap: 12px;\n",
              "    }\n",
              "\n",
              "    .colab-df-convert {\n",
              "      background-color: #E8F0FE;\n",
              "      border: none;\n",
              "      border-radius: 50%;\n",
              "      cursor: pointer;\n",
              "      display: none;\n",
              "      fill: #1967D2;\n",
              "      height: 32px;\n",
              "      padding: 0 0 0 0;\n",
              "      width: 32px;\n",
              "    }\n",
              "\n",
              "    .colab-df-convert:hover {\n",
              "      background-color: #E2EBFA;\n",
              "      box-shadow: 0px 1px 2px rgba(60, 64, 67, 0.3), 0px 1px 3px 1px rgba(60, 64, 67, 0.15);\n",
              "      fill: #174EA6;\n",
              "    }\n",
              "\n",
              "    [theme=dark] .colab-df-convert {\n",
              "      background-color: #3B4455;\n",
              "      fill: #D2E3FC;\n",
              "    }\n",
              "\n",
              "    [theme=dark] .colab-df-convert:hover {\n",
              "      background-color: #434B5C;\n",
              "      box-shadow: 0px 1px 3px 1px rgba(0, 0, 0, 0.15);\n",
              "      filter: drop-shadow(0px 1px 2px rgba(0, 0, 0, 0.3));\n",
              "      fill: #FFFFFF;\n",
              "    }\n",
              "  </style>\n",
              "\n",
              "      <script>\n",
              "        const buttonEl =\n",
              "          document.querySelector('#df-76bd3ce8-1b56-4560-b3b6-35979fb6caff button.colab-df-convert');\n",
              "        buttonEl.style.display =\n",
              "          google.colab.kernel.accessAllowed ? 'block' : 'none';\n",
              "\n",
              "        async function convertToInteractive(key) {\n",
              "          const element = document.querySelector('#df-76bd3ce8-1b56-4560-b3b6-35979fb6caff');\n",
              "          const dataTable =\n",
              "            await google.colab.kernel.invokeFunction('convertToInteractive',\n",
              "                                                     [key], {});\n",
              "          if (!dataTable) return;\n",
              "\n",
              "          const docLinkHtml = 'Like what you see? Visit the ' +\n",
              "            '<a target=\"_blank\" href=https://colab.research.google.com/notebooks/data_table.ipynb>data table notebook</a>'\n",
              "            + ' to learn more about interactive tables.';\n",
              "          element.innerHTML = '';\n",
              "          dataTable['output_type'] = 'display_data';\n",
              "          await google.colab.output.renderOutput(dataTable, element);\n",
              "          const docLink = document.createElement('div');\n",
              "          docLink.innerHTML = docLinkHtml;\n",
              "          element.appendChild(docLink);\n",
              "        }\n",
              "      </script>\n",
              "    </div>\n",
              "  </div>\n",
              "  "
            ]
          },
          "metadata": {},
          "execution_count": 16
        }
      ]
    },
    {
      "cell_type": "code",
      "source": [
        "# check to see if the experiment worked properly\n",
        "# trials should either end in success? = true or collapse? = true.\n",
        "# trials that hit the time limit (5000 steps) do not provide a clear picture.\n",
        "\n",
        "time_limit = data['[step]'] == 5000\n",
        "np.sum(time_limit)\n",
        "\n",
        "# zero trials hit the time limit - nice."
      ],
      "metadata": {
        "colab": {
          "base_uri": "https://localhost:8080/"
        },
        "id": "KDGJK5e9GB6I",
        "outputId": "a2b861e3-299e-47e5-bdd1-91c09c03472a"
      },
      "execution_count": 17,
      "outputs": [
        {
          "output_type": "execute_result",
          "data": {
            "text/plain": [
              "0"
            ]
          },
          "metadata": {},
          "execution_count": 17
        }
      ]
    },
    {
      "cell_type": "code",
      "source": [
        "params = [0.1,0.2,0.3,0.4,0.5]\n",
        "indexer = [0,1,2,3,4]\n",
        "\n",
        "# pull out the subsets of the data for each initial proportion\n",
        "\n",
        "selectors = [data['initial_proportion_ethnic_learning'] == p for p in params]\n",
        "\n",
        "summary = []\n",
        "for j in indexer:\n",
        "    filtered_data = data[selectors[j]]\n",
        "\n",
        "    # then pull out the subset of that subset for each random pairing level\n",
        "    # so we are only deal with the 100 simulations that correspond to\n",
        "    # a particular pair of pairing and initial parameter values.\n",
        "\n",
        "    selector_2 = [filtered_data['random-pairing'] == p for p in params]\n",
        "\n",
        "    frequency_of_success = []\n",
        "    for i in indexer:\n",
        "        filtered_data_2 = filtered_data[selector_2[i]]\n",
        "\n",
        "        # then extract the frequency of success\n",
        "\n",
        "        frequency_of_success.append(np.mean(filtered_data_2['success?']))\n",
        "\n",
        "    # generate a 5x5 matrix\n",
        "\n",
        "    summary.append(frequency_of_success)\n",
        "\n",
        "# plug the matrix into a dataframe\n",
        "    \n",
        "summary = pd.DataFrame(summary,columns=params,index=params)\n",
        "summary\n",
        "\n",
        "# and generate a heatmap from matrix\n",
        "\n",
        "sns.heatmap(summary)\n",
        "plt.title(\"Probability of success when n=10\")\n",
        "plt.ylabel(\"Initial learning bias\")\n",
        "plt.xlabel(\"Probability of random pairing\")\n",
        "plt.show()"
      ],
      "metadata": {
        "colab": {
          "base_uri": "https://localhost:8080/",
          "height": 411
        },
        "id": "MUc1-5fPb7p1",
        "outputId": "100ce9e8-767e-475c-a9ce-8df6c637d15a"
      },
      "execution_count": 18,
      "outputs": [
        {
          "output_type": "display_data",
          "data": {
            "text/plain": [
              "<Figure size 576x432 with 2 Axes>"
            ],
            "image/png": "[encoded data removed]"
          },
          "metadata": {
            "needs_background": "light"
          }
        }
      ]
    },
    {
      "cell_type": "code",
      "source": [
        "sns.heatmap(summary,cmap='Greys')\n",
        "plt.title(\"Probability of success when n=10\")\n",
        "plt.ylabel(\"Initial learning bias\")\n",
        "plt.xlabel(\"Probability of random pairing\")\n",
        "plt.show()"
      ],
      "metadata": {
        "colab": {
          "base_uri": "https://localhost:8080/",
          "height": 411
        },
        "id": "ZEH5sG0M3k8F",
        "outputId": "fd716df2-b9d9-4635-965a-36a6d9d18d10"
      },
      "execution_count": 19,
      "outputs": [
        {
          "output_type": "display_data",
          "data": {
            "text/plain": [
              "<Figure size 576x432 with 2 Axes>"
            ],
            "image/png": "[encoded data removed]"
          },
          "metadata": {
            "needs_background": "light"
          }
        }
      ]
    }
  ]
}