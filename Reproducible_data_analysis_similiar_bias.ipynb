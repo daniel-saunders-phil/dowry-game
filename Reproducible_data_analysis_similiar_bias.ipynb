{
  "nbformat": 4,
  "nbformat_minor": 0,
  "metadata": {
    "colab": {
      "name": "Reproducible_data_analysis_similiar_bias.ipynb",
      "provenance": [],
      "authorship_tag": "ABX9TyNFFb7I8yqgPxNslE9J2Poq",
      "include_colab_link": true
    },
    "kernelspec": {
      "name": "python3",
      "display_name": "Python 3"
    },
    "language_info": {
      "name": "python"
    }
  },
  "cells": [
    {
      "cell_type": "markdown",
      "metadata": {
        "id": "view-in-github",
        "colab_type": "text"
      },
      "source": [
        "<a href=\"https://colab.research.google.com/github/daniel-saunders-phil/dowry-game/blob/main/Reproducible_data_analysis_similiar_bias.ipynb\" target=\"_parent\"><img src=\"https://colab.research.google.com/assets/colab-badge.svg\" alt=\"Open In Colab\"/></a>"
      ]
    }
  ]
}